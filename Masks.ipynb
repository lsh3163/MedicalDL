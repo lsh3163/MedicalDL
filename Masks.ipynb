{
  "nbformat": 4,
  "nbformat_minor": 0,
  "metadata": {
    "colab": {
      "name": "Masks.ipynb",
      "version": "0.3.2",
      "provenance": [],
      "include_colab_link": true
    },
    "kernelspec": {
      "name": "python3",
      "display_name": "Python 3"
    }
  },
  "cells": [
    {
      "cell_type": "markdown",
      "metadata": {
        "id": "view-in-github",
        "colab_type": "text"
      },
      "source": [
        "<a href=\"https://colab.research.google.com/github/lsh3163/MedicalDL/blob/master/Masks.ipynb\" target=\"_parent\"><img src=\"https://colab.research.google.com/assets/colab-badge.svg\" alt=\"Open In Colab\"/></a>"
      ]
    },
    {
      "metadata": {
        "id": "XENVNWHRUA2a",
        "colab_type": "text"
      },
      "cell_type": "markdown",
      "source": [
        "# Masks and Filters\n",
        "## Image intensities\n",
        "* Pixels are 2D picture elements\n",
        "* Voxels are 3D vlumn elements\n",
        "* Two properties : intensity and location"
      ]
    },
    {
      "metadata": {
        "id": "XbpKcx0RVYZ9",
        "colab_type": "text"
      },
      "cell_type": "markdown",
      "source": [
        "### Intensity"
      ]
    },
    {
      "metadata": {
        "id": "HsgWNwNmUUJh",
        "colab_type": "code",
        "colab": {}
      },
      "cell_type": "code",
      "source": [
        "# Load the hand radiograph\n",
        "im = imageio.imread(\"hand-xray.jpg\")\n",
        "print('Data type:', im.dtype)\n",
        "print('Min. value:', im.min())\n",
        "print('Max value:', im.max())\n",
        "\n",
        "# Plot the grayscale image\n",
        "plt.imshow(im, vmin=0, vmax=255)\n",
        "plt.colorbar()\n",
        "format_and_render_plot()"
      ],
      "execution_count": 0,
      "outputs": []
    },
    {
      "metadata": {
        "id": "51rwHfMhV52W",
        "colab_type": "text"
      },
      "cell_type": "markdown",
      "source": [
        "### Histograms"
      ]
    },
    {
      "metadata": {
        "id": "M_xDatZKV8Z-",
        "colab_type": "code",
        "colab": {}
      },
      "cell_type": "code",
      "source": [
        "# Import SciPy's \"ndimage\" module\n",
        "import scipy.ndimage as ndi \n",
        "\n",
        "# Create a histogram, binned at each possible value\n",
        "hist = ndi.histogram(im, min=0, max=255, bins=256)\n",
        "\n",
        "# Create a cumulative distribution function\n",
        "cdf = hist.cumsum() / hist.sum()\n",
        "\n",
        "# Plot the histogram and CDF\n",
        "fig, axes = plt.subplots(2, 1, sharex=True)\n",
        "axes[0].plot(hist, label='Histogram')\n",
        "axes[1].plot(cdf, label='CDF')\n",
        "format_and_render_plot()"
      ],
      "execution_count": 0,
      "outputs": []
    },
    {
      "metadata": {
        "id": "zIymVUdcWae3",
        "colab_type": "text"
      },
      "cell_type": "markdown",
      "source": [
        "## Masks\n",
        "### Create a mask"
      ]
    },
    {
      "metadata": {
        "id": "JDLE8msuWbt6",
        "colab_type": "code",
        "colab": {}
      },
      "cell_type": "code",
      "source": [
        "# Create skin and bone masks\n",
        "mask_bone = im >= 145\n",
        "mask_skin = (im >= 45) & (im < 145)\n",
        "\n",
        "# Plot the skin (0) and bone (1) masks\n",
        "fig, axes = plt.subplots(1,2)\n",
        "axes[0].imshow(mask_skin, cmap='gray')\n",
        "axes[1].imshow(mask_bone, cmap='gray')\n",
        "format_and_render_plot()"
      ],
      "execution_count": 0,
      "outputs": []
    },
    {
      "metadata": {
        "id": "pp7feUu2YcGC",
        "colab_type": "text"
      },
      "cell_type": "markdown",
      "source": [
        "### Apply a mask"
      ]
    },
    {
      "metadata": {
        "id": "DAsu_R1JYdk6",
        "colab_type": "code",
        "colab": {}
      },
      "cell_type": "code",
      "source": [
        "# Import SciPy's \"ndimage\" module\n",
        "import scipy.ndimage as ndi\n",
        "\n",
        "# Screen out non-bone pixels from \"im\"\n",
        "mask_bone = im >= 145\n",
        "im_bone = np.where(mask_bone, im, 0)\n",
        "\n",
        "# Get the histogram of bone intensities\n",
        "hist = ndi.histogram(im_bone, min=1, max=255, bins=255)\n",
        "\n",
        "# Plot masked image and histogram\n",
        "fig, axes = plt.subplots(2,1)\n",
        "axes[0].imshow(im_bone)\n",
        "axes[1].plot(hist)\n",
        "format_and_render_plot()"
      ],
      "execution_count": 0,
      "outputs": []
    },
    {
      "metadata": {
        "id": "DjmNktdrZzUs",
        "colab_type": "text"
      },
      "cell_type": "markdown",
      "source": [
        "### Tune a mask"
      ]
    },
    {
      "metadata": {
        "id": "068S7SCbZu-j",
        "colab_type": "code",
        "colab": {}
      },
      "cell_type": "code",
      "source": [
        "# Create and tune bone mask\n",
        "mask_bone = im >= 145\n",
        "mask_dilate = ndi.binary_dilation(mask_bone, iterations=5)\n",
        "mask_closed = ndi.binary_closing(mask_bone, iterations=5)\n",
        "\n",
        "# Plot masked images\n",
        "fig, axes = plt.subplots(1,3)\n",
        "axes[0].imshow(mask_bone)\n",
        "axes[1].imshow(mask_dilate)\n",
        "axes[2].imshow(mask_closed)\n",
        "format_and_render_plot()"
      ],
      "execution_count": 0,
      "outputs": []
    },
    {
      "metadata": {
        "id": "cB_Rfi9xbiMp",
        "colab_type": "text"
      },
      "cell_type": "markdown",
      "source": [
        "## Filters\n",
        "### Filter convolutions"
      ]
    },
    {
      "metadata": {
        "id": "E_69TE90bjDb",
        "colab_type": "code",
        "colab": {}
      },
      "cell_type": "code",
      "source": [
        "# Set filter weights\n",
        "weights = [[0.11, 0.11, 0.11],\n",
        "           [0.11, 0.11, 0.11], \n",
        "           [0.11, 0.11, 0.11]]\n",
        "\n",
        "# Convolve the image with the filter\n",
        "im_filt = ndi.convolve(im, weights)\n",
        "\n",
        "# Plot the images\n",
        "fig, axes = plt.subplots(1,2)\n",
        "axes[0].imshow(im)\n",
        "axes[1].imshow(im_filt)\n",
        "format_and_render_plot()"
      ],
      "execution_count": 0,
      "outputs": []
    },
    {
      "metadata": {
        "id": "u6qRtpZld_fM",
        "colab_type": "text"
      },
      "cell_type": "markdown",
      "source": [
        "### Smoothing"
      ]
    },
    {
      "metadata": {
        "id": "hixUkzF2eAy7",
        "colab_type": "code",
        "colab": {}
      },
      "cell_type": "code",
      "source": [
        "# Smooth \"im\" with Gaussian filters\n",
        "im_s1 = ndi.gaussian_filter(im, sigma=1)\n",
        "im_s3 = ndi.gaussian_filter(im, sigma=3)\n",
        "\n",
        "# Draw bone masks of each image\n",
        "fig, axes = plt.subplots(1,3)\n",
        "axes[0].imshow(im >= 145)\n",
        "axes[1].imshow(im_s1 >= 145)\n",
        "axes[2].imshow(im_s3 >= 145)\n",
        "format_and_render_plot()"
      ],
      "execution_count": 0,
      "outputs": []
    },
    {
      "metadata": {
        "id": "7hb0LjcvfK0F",
        "colab_type": "text"
      },
      "cell_type": "markdown",
      "source": [
        "### Detect edges(1)"
      ]
    },
    {
      "metadata": {
        "id": "goL4vkUtfMF0",
        "colab_type": "code",
        "colab": {}
      },
      "cell_type": "code",
      "source": [
        "# Set weights to detect vertical edges\n",
        "weights = [[1, 0, -1], [1, 0, -1], [1, 0 ,-1]]\n",
        "\n",
        "# Convolve \"im\" with filter weights\n",
        "edges = ndi.convolve(im, weights)\n",
        "\n",
        "# Draw the image in color\n",
        "plt.imshow(edges, cmap='seismic', vmin=-150, vmax=150)\n",
        "plt.colorbar()\n",
        "format_and_render_plot()"
      ],
      "execution_count": 0,
      "outputs": []
    },
    {
      "metadata": {
        "id": "5sp1OTIDfObA",
        "colab_type": "text"
      },
      "cell_type": "markdown",
      "source": [
        "### Detect edges(2)"
      ]
    },
    {
      "metadata": {
        "id": "hKJ1wp2LfQOs",
        "colab_type": "code",
        "colab": {}
      },
      "cell_type": "code",
      "source": [
        "# Apply Sobel filter along both axes\n",
        "sobel_ax0 = ndi.sobel(im, axis=0)\n",
        "sobel_ax1 = ndi.sobel(im, axis=1)\n",
        "\n",
        "# Calculate edge magnitude \n",
        "edges = np.sqrt(np.square(sobel_ax0) + np.square(sobel_ax1))\n",
        "\n",
        "# Plot edge magnitude\n",
        "plt.imshow(edges, cmap='gray', vmax=75)\n",
        "format_and_render_plot()"
      ],
      "execution_count": 0,
      "outputs": []
    }
  ]
}