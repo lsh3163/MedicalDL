{
  "nbformat": 4,
  "nbformat_minor": 0,
  "metadata": {
    "colab": {
      "name": "Biomedical.ipynb",
      "version": "0.3.2",
      "provenance": [],
      "include_colab_link": true
    },
    "kernelspec": {
      "name": "python3",
      "display_name": "Python 3"
    },
    "accelerator": "GPU"
  },
  "cells": [
    {
      "cell_type": "markdown",
      "metadata": {
        "id": "view-in-github",
        "colab_type": "text"
      },
      "source": [
        "<a href=\"https://colab.research.google.com/github/lsh3163/MedicalDL/blob/master/Biomedical.ipynb\" target=\"_parent\"><img src=\"https://colab.research.google.com/assets/colab-badge.svg\" alt=\"Open In Colab\"/></a>"
      ]
    },
    {
      "metadata": {
        "id": "LX5HpiIyDnhq",
        "colab_type": "text"
      },
      "cell_type": "markdown",
      "source": [
        "# Biomedical Image Analysis in Python\n",
        "## Exploration\n",
        "### Loading images\n",
        "* `imageio` : read and save images\n",
        "* `image` objects are Numpy arrays\n",
        "* `Metadata` : the who, what, when, where and how of image acquisition\n",
        "  * Accessible in image objects through the meta dictionary attribute\n",
        "  \n",
        "### Plotting images\n",
        "* Matplotlib's imshow() function displays 2D image data\n",
        "* Many colormaps availabe but often shown in grayscale(cmap='gray')"
      ]
    },
    {
      "metadata": {
        "id": "XRDIOfzEFGcT",
        "colab_type": "text"
      },
      "cell_type": "markdown",
      "source": [
        "### Load images"
      ]
    },
    {
      "metadata": {
        "id": "AT0NdcxTDsOi",
        "colab_type": "code",
        "colab": {}
      },
      "cell_type": "code",
      "source": [
        "# Import ImageIO\n",
        "import imageio\n",
        "\n",
        "# Load \"chest-220.dcm\"\n",
        "im = imageio.imread(\"chest-220.dcm\")\n",
        "\n",
        "# Print image attributes\n",
        "print('Image type:', type(im))\n",
        "print('Shape of image array:', im.shape)"
      ],
      "execution_count": 0,
      "outputs": []
    },
    {
      "metadata": {
        "id": "ClszaB7jFjr8",
        "colab_type": "text"
      },
      "cell_type": "markdown",
      "source": [
        "### Metadata"
      ]
    },
    {
      "metadata": {
        "id": "TN6WP7JjFnoD",
        "colab_type": "code",
        "colab": {}
      },
      "cell_type": "code",
      "source": [
        "# Import ImageIO and load image\n",
        "import imageio\n",
        "im = imageio.imread(\"chest-220.dcm\")\n",
        "\n",
        "# Print the available metadata fields\n",
        "print(im.meta.keys())"
      ],
      "execution_count": 0,
      "outputs": []
    },
    {
      "metadata": {
        "id": "5BWPtLaMGU8u",
        "colab_type": "text"
      },
      "cell_type": "markdown",
      "source": [
        "### Plot images"
      ]
    },
    {
      "metadata": {
        "id": "PdcluzO6Hbrn",
        "colab_type": "code",
        "colab": {}
      },
      "cell_type": "code",
      "source": [
        "# Import ImageIO and PyPlot \n",
        "import imageio\n",
        "import matplotlib.pyplot as plt\n",
        "\n",
        "# Read in \"chest-220.dcm\"\n",
        "im = imageio.imread(\"chest-220.dcm\")\n",
        "\n",
        "# Draw the image in grayscale\n",
        "plt.imshow(im, cmap='gray')\n",
        "\n",
        "# Render the image\n",
        "plt.show()\n",
        "\n",
        "# Draw the image with greater contrast\n",
        "plt.imshow(im, cmap='gray', vmin=-200, vmax=200)\n",
        "\n",
        "# Render the image\n",
        "plt.axis(\"off\")\n",
        "plt.show()"
      ],
      "execution_count": 0,
      "outputs": []
    },
    {
      "metadata": {
        "id": "-SkcYZPHHi1H",
        "colab_type": "text"
      },
      "cell_type": "markdown",
      "source": [
        "### N-dimensional images"
      ]
    },
    {
      "metadata": {
        "id": "3FuDOAEOIvDC",
        "colab_type": "text"
      },
      "cell_type": "markdown",
      "source": [
        "#### Stack"
      ]
    },
    {
      "metadata": {
        "id": "K_k2Awg2HpwT",
        "colab_type": "code",
        "colab": {}
      },
      "cell_type": "code",
      "source": [
        "# Import ImageIO and NumPy\n",
        "import imageio\n",
        "import numpy as np\n",
        "\n",
        "# Read in each 2D image\n",
        "im1 = imageio.imread('chest-220.dcm')\n",
        "im2 = imageio.imread('chest-221.dcm')\n",
        "im3 = imageio.imread('chest-222.dcm')\n",
        "\n",
        "# Stack images into a volume\n",
        "vol = np.stack([im1, im2, im3])\n",
        "print('Volume dimensions:', vol.shape)"
      ],
      "execution_count": 0,
      "outputs": []
    },
    {
      "metadata": {
        "id": "d6Xepy32I0mv",
        "colab_type": "text"
      },
      "cell_type": "markdown",
      "source": [
        "#### Load volumes"
      ]
    },
    {
      "metadata": {
        "id": "TSscYQMTIxgL",
        "colab_type": "code",
        "colab": {}
      },
      "cell_type": "code",
      "source": [
        "# Import ImageIO\n",
        "import imageio\n",
        "\n",
        "# Load the \"tcia-chest-ct\" directory\n",
        "vol = imageio.volread(\"tcia-chest-ct\")\n",
        "\n",
        "# Print image attributes\n",
        "print('Available metadata:', vol.meta.keys())\n",
        "print('Shape of image array:', vol.shape)"
      ],
      "execution_count": 0,
      "outputs": []
    },
    {
      "metadata": {
        "id": "d-XFvdDEJ5kI",
        "colab_type": "text"
      },
      "cell_type": "markdown",
      "source": [
        "### Advanced plotting\n",
        "#### Generate subplots"
      ]
    },
    {
      "metadata": {
        "id": "ccvGS7UJJM0z",
        "colab_type": "code",
        "colab": {}
      },
      "cell_type": "code",
      "source": [
        "# Import PyPlot\n",
        "import matplotlib.pyplot as plt\n",
        "\n",
        "# Initialize figure and axes grid\n",
        "fig, axes = plt.subplots(nrows=2, ncols=1)\n",
        "\n",
        "# Draw an image on each subplot\n",
        "axes[0].imshow(im1, cmap=\"gray\")\n",
        "axes[1].imshow(im2, cmap=\"gray\")\n",
        "\n",
        "# Remove ticks/labels and render\n",
        "axes[0].axis(\"off\")\n",
        "axes[1].axis(\"off\")\n",
        "plt.show()"
      ],
      "execution_count": 0,
      "outputs": []
    },
    {
      "metadata": {
        "id": "n84A1TxwLulR",
        "colab_type": "text"
      },
      "cell_type": "markdown",
      "source": [
        "### Slice 3D images"
      ]
    },
    {
      "metadata": {
        "id": "UcVMMf4ELv7D",
        "colab_type": "code",
        "colab": {}
      },
      "cell_type": "code",
      "source": [
        "# Plot the images on a subplots array \n",
        "fig, axes = plt.subplots(nrows=1, ncols=4)\n",
        "\n",
        "# Loop through subplots and draw image\n",
        "for ii in range(4):\n",
        "    im = vol[ii * 40, :, :]\n",
        "    axes[ii].imshow(im, cmap='gray')\n",
        "    axes[ii].axis('off')\n",
        "\n",
        "# Render the figure\n",
        "plt.show()"
      ],
      "execution_count": 0,
      "outputs": []
    },
    {
      "metadata": {
        "id": "ElBAbEPGMMxC",
        "colab_type": "text"
      },
      "cell_type": "markdown",
      "source": [
        "#### Plot other views"
      ]
    },
    {
      "metadata": {
        "id": "A0QqzgczMObL",
        "colab_type": "code",
        "colab": {}
      },
      "cell_type": "code",
      "source": [
        "# Select frame from \"vol\"\n",
        "im1 = vol[:, 256, :]\n",
        "im2 = vol[:, :, 256]\n",
        "\n",
        "# Compute aspect ratios\n",
        "d0, d1, d2 = vol.meta[\"sampling\"]\n",
        "asp1 = d0 / d2\n",
        "asp2 = d0 / d1\n",
        "\n",
        "# Plot the images on a subplots array \n",
        "fig, axes = plt.subplots(nrows=2, ncols=1)\n",
        "axes[0].imshow(im1, cmap='gray', aspect=asp1)\n",
        "axes[1].imshow(im2, cmap=\"gray\", aspect=asp2)\n",
        "plt.show()"
      ],
      "execution_count": 0,
      "outputs": []
    }
  ]
}